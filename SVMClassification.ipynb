{
  "cells": [
    {
      "cell_type": "markdown",
      "metadata": {
        "id": "view-in-github",
        "colab_type": "text"
      },
      "source": [
        "<a href=\"https://colab.research.google.com/github/torotoro21/GLAUCOMA-DETECTION/blob/ILHAM/SVMClassification.ipynb\" target=\"_parent\"><img src=\"https://colab.research.google.com/assets/colab-badge.svg\" alt=\"Open In Colab\"/></a>"
      ]
    },
    {
      "cell_type": "code",
      "execution_count": null,
      "metadata": {
        "id": "0ustyNtKX7o4"
      },
      "outputs": [],
      "source": [
        "import pandas as pd\n",
        "import os\n",
        "import matplotlib.pyplot as plt\n",
        "from skimage.transform import resize\n",
        "from skimage.io import imread\n",
        "import numpy as np "
      ]
    },
    {
      "cell_type": "code",
      "execution_count": null,
      "metadata": {
        "colab": {
          "base_uri": "https://localhost:8080/"
        },
        "id": "UYlMhd1MZY08",
        "outputId": "0b951149-3f8a-4ef6-9029-d186d9b54dd4"
      },
      "outputs": [
        {
          "output_type": "stream",
          "name": "stdout",
          "text": [
            "Mounted at /content/drive\n"
          ]
        }
      ],
      "source": [
        "from google.colab import drive\n",
        "drive.mount('/content/drive')"
      ]
    },
    {
      "cell_type": "code",
      "execution_count": null,
      "metadata": {
        "id": "5_e0KHpwYgEA"
      },
      "outputs": [],
      "source": [
        "datadir = '/content/drive/MyDrive/dataset/KaggleDataset'\n",
        "\n",
        "categories = ['Glaucoma_Negative', 'Glaucoma_Positive']\n",
        "flat_data_arr = []\n",
        "target_arr = []"
      ]
    },
    {
      "cell_type": "code",
      "execution_count": null,
      "metadata": {
        "colab": {
          "base_uri": "https://localhost:8080/"
        },
        "id": "0xujCKXuZCKc",
        "outputId": "810c6c64-c38d-47af-e5d8-323a2ba23d26"
      },
      "outputs": [
        {
          "output_type": "stream",
          "name": "stdout",
          "text": [
            "loading... category : Glaucoma_Negative\n",
            "loaded category:Glaucoma_Negative successfully\n",
            "loading... category : Glaucoma_Positive\n",
            "loaded category:Glaucoma_Positive successfully\n"
          ]
        }
      ],
      "source": [
        "for category in categories:\n",
        "  print(f'loading... category : {category}')\n",
        "  imgPath = os.path.join(datadir, category)\n",
        "  for img in os.listdir(imgPath):\n",
        "    img_array = imread(os.path.join(imgPath, img))\n",
        "    img_resized = resize(img_array, (50,50,3))\n",
        "    flat_data_arr.append(img_resized.flatten())\n",
        "    target_arr.append(categories.index(category))\n",
        "  print(f'loaded category:{category} successfully')"
      ]
    },
    {
      "cell_type": "code",
      "execution_count": null,
      "metadata": {
        "id": "1DrYd3yOajJX"
      },
      "outputs": [],
      "source": [
        "flat_data=np.array(flat_data_arr)\n",
        "target=np.array(target_arr)\n",
        "df=pd.DataFrame(flat_data) #dataframe\n",
        "df['Target']=target\n",
        "x=df.iloc[:,:-1] #input data \n",
        "y=df.iloc[:,-1] #output data"
      ]
    },
    {
      "cell_type": "code",
      "execution_count": null,
      "metadata": {
        "colab": {
          "base_uri": "https://localhost:8080/"
        },
        "id": "BM7iz9o_ebgR",
        "outputId": "c24a1a31-0252-4e79-a305-9859273fa806"
      },
      "outputs": [
        {
          "output_type": "stream",
          "name": "stdout",
          "text": [
            "Splitted Successfully\n",
            "The Model is trained well with the given images\n"
          ]
        }
      ],
      "source": [
        "from sklearn.model_selection import train_test_split\n",
        "x_train,x_test,y_train,y_test=train_test_split(x,y,test_size=0.20,random_state=77,stratify=y)\n",
        "print('Splitted Successfully')\n",
        "#model.fit(x_train,y_train)\n",
        "print('The Model is trained well with the given images')\n",
        "# model.best_params_ contains the best parameters obtained from GridSearchCV"
      ]
    },
    {
      "cell_type": "code",
      "execution_count": null,
      "metadata": {
        "id": "3mkFD9U4at1Z",
        "colab": {
          "base_uri": "https://localhost:8080/"
        },
        "outputId": "57ce2e26-c5b7-4041-d0f1-7c8177c1d7ab"
      },
      "outputs": [
        {
          "output_type": "execute_result",
          "data": {
            "text/plain": [
              "SVC(gamma='auto', kernel='linear')"
            ]
          },
          "metadata": {},
          "execution_count": 8
        }
      ],
      "source": [
        "from sklearn import svm\n",
        "from sklearn.model_selection import GridSearchCV\n",
        "#param_grid={'C':[0.1,1,10,100],'gamma':[0.0001,0.001,0.1,1],'kernel':['rbf','poly']}\n",
        "svc=svm.SVC(kernel='linear', gamma='auto')\n",
        "svc.fit(x_train, y_train)"
      ]
    },
    {
      "cell_type": "code",
      "source": [
        "y2 = svc.predict(x_test)\n",
        "from sklearn.metrics import accuracy_score\n",
        "print(\"Accuracy data is\",accuracy_score(y_test,y2))"
      ],
      "metadata": {
        "colab": {
          "base_uri": "https://localhost:8080/"
        },
        "id": "h1GfBQ20qYUK",
        "outputId": "67b88760-9887-4453-890b-086e4f24f344"
      },
      "execution_count": null,
      "outputs": [
        {
          "output_type": "stream",
          "name": "stdout",
          "text": [
            "Accuracy data is 0.7846153846153846\n"
          ]
        }
      ]
    },
    {
      "cell_type": "code",
      "source": [
        "from sklearn.metrics import classification_report\n",
        "print(\"Accuracy on unknown data is\",classification_report(y_test,y2))"
      ],
      "metadata": {
        "colab": {
          "base_uri": "https://localhost:8080/"
        },
        "id": "VJ735IOZ3WXZ",
        "outputId": "dd32bd22-886a-4b79-e523-a7c9c9cd9b95"
      },
      "execution_count": null,
      "outputs": [
        {
          "output_type": "stream",
          "name": "stdout",
          "text": [
            "Accuracy on unknown data is               precision    recall  f1-score   support\n",
            "\n",
            "           0       0.83      0.90      0.86        97\n",
            "           1       0.60      0.45      0.52        33\n",
            "\n",
            "    accuracy                           0.78       130\n",
            "   macro avg       0.71      0.68      0.69       130\n",
            "weighted avg       0.77      0.78      0.77       130\n",
            "\n"
          ]
        }
      ]
    },
    {
      "cell_type": "code",
      "execution_count": null,
      "metadata": {
        "id": "Cpn6XeJpiGCj"
      },
      "outputs": [],
      "source": [
        "from sklearn.metrics import accuracy_score\n",
        "y_pred=model.predict(x_test)\n",
        "print(\"The predicted Data is :\")\n",
        "print(y_pred)\n",
        "print(\"The actual data is:\")\n",
        "print(np.array(y_test))\n",
        "print(f\"The model is {accuracy_score(y_pred,y_test)*100}% accurate\")"
      ]
    }
  ],
  "metadata": {
    "accelerator": "GPU",
    "colab": {
      "provenance": [],
      "collapsed_sections": [],
      "authorship_tag": "ABX9TyPN87NIEGHEdAtJQW61RvPB",
      "include_colab_link": true
    },
    "kernelspec": {
      "display_name": "Python 3",
      "name": "python3"
    },
    "language_info": {
      "name": "python"
    }
  },
  "nbformat": 4,
  "nbformat_minor": 0
}