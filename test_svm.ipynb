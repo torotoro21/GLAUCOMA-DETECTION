{
 "cells": [
  {
   "cell_type": "markdown",
   "metadata": {},
   "source": [
    "# KLASIFIKASI GLAUKOMA MENGGUNAKAN MACHINE LEARNING (SVM)"
   ]
  },
  {
   "cell_type": "markdown",
   "metadata": {},
   "source": [
    "Deklarasi Library"
   ]
  },
  {
   "cell_type": "code",
   "execution_count": 8,
   "metadata": {},
   "outputs": [],
   "source": [
    "import os #for accessing directory\n",
    "import numpy as np #for converting to array\n",
    "import cv2 #for processing image (reading, resizing)\n",
    "import matplotlib.pyplot as plt #for plotting\n",
    "import matplotlib.image as mpimg #for reading image\n",
    "import pandas as pd\n",
    "\n",
    "import random #for randomize dataset\n",
    "\n",
    "from sklearn.model_selection import train_test_split #for splitting dataset\n",
    "from sklearn.svm import SVC #svm training\n",
    "from sklearn.metrics import accuracy_score #for acc score\n",
    "from sklearn.metrics import classification_report #training report"
   ]
  },
  {
   "cell_type": "code",
   "execution_count": 9,
   "metadata": {},
   "outputs": [
    {
     "data": {
      "text/plain": [
       "['Glaucoma_Negative', 'Glaucoma_Positive']"
      ]
     },
     "execution_count": 9,
     "metadata": {},
     "output_type": "execute_result"
    }
   ],
   "source": [
    "DATASET = os.path.join(os.getcwd(), 'mixeddata')\n",
    "\n",
    "category = []\n",
    "for i in os.listdir(DATASET):\n",
    "    category.append(i)\n",
    "\n",
    "category"
   ]
  },
  {
   "cell_type": "markdown",
   "metadata": {},
   "source": [
    "Inputing data train"
   ]
  },
  {
   "cell_type": "code",
   "execution_count": 10,
   "metadata": {},
   "outputs": [
    {
     "name": "stdout",
     "output_type": "stream",
     "text": [
      "jumlah data train 650 gambar\n"
     ]
    }
   ],
   "source": [
    "data = []\n",
    "\n",
    "for i in category:\n",
    "    path = os.path.join(DATASET, i)\n",
    "    label = i\n",
    "    \n",
    "    for img in os.listdir(path):\n",
    "        imgpath = os.path.join(path, img)\n",
    "        images = cv2.imread(imgpath, 0)\n",
    "        images = cv2.resize(images, (150, 150))\n",
    "        images = np.array(images).flatten()\n",
    "        data.append([images, label])\n",
    "\n",
    "print(\"jumlah data train\", len(data),\"gambar\")\n",
    "        "
   ]
  },
  {
   "cell_type": "markdown",
   "metadata": {},
   "source": [
    "randomize data"
   ]
  },
  {
   "cell_type": "code",
   "execution_count": 11,
   "metadata": {},
   "outputs": [],
   "source": [
    "random.shuffle(data)\n",
    "features = []\n",
    "labels = []\n",
    "\n",
    "for feature, label in data:\n",
    "    features.append(feature)\n",
    "    labels.append(label)"
   ]
  },
  {
   "cell_type": "markdown",
   "metadata": {},
   "source": [
    "TRAINING"
   ]
  },
  {
   "cell_type": "code",
   "execution_count": 14,
   "metadata": {},
   "outputs": [
    {
     "name": "stdout",
     "output_type": "stream",
     "text": [
      "Accuracy on unknown data is 0.7128205128205128\n",
      "\n",
      "                   precision    recall  f1-score   support\n",
      "\n",
      "Glaucoma_Negative       0.81      0.81      0.81       150\n",
      "Glaucoma_Positive       0.38      0.38      0.38        45\n",
      "\n",
      "         accuracy                           0.71       195\n",
      "        macro avg       0.60      0.60      0.60       195\n",
      "     weighted avg       0.71      0.71      0.71       195\n",
      "\n"
     ]
    }
   ],
   "source": [
    "from sklearn import metrics\n",
    "\n",
    "\n",
    "xtrain, xtest, ytrain, ytest = train_test_split(features, labels, test_size=0.30)\n",
    "\n",
    "model = SVC(C=3, kernel='linear', gamma=2)\n",
    "model.fit(xtrain, ytrain)\n",
    "\n",
    "pred = model.predict(xtest)\n",
    "acc = model.score(xtest, ytest)\n",
    "\n",
    "print(\"Accuracy on unknown data is\",accuracy_score(ytest,pred))\n",
    "\n",
    "print()\n",
    "\n",
    "print(metrics.classification_report(ytest,pred))"
   ]
  },
  {
   "cell_type": "code",
   "execution_count": 51,
   "metadata": {},
   "outputs": [
    {
     "data": {
      "text/html": [
       "<div>\n",
       "<style scoped>\n",
       "    .dataframe tbody tr th:only-of-type {\n",
       "        vertical-align: middle;\n",
       "    }\n",
       "\n",
       "    .dataframe tbody tr th {\n",
       "        vertical-align: top;\n",
       "    }\n",
       "\n",
       "    .dataframe thead th {\n",
       "        text-align: right;\n",
       "    }\n",
       "</style>\n",
       "<table border=\"1\" class=\"dataframe\">\n",
       "  <thead>\n",
       "    <tr style=\"text-align: right;\">\n",
       "      <th></th>\n",
       "      <th>original</th>\n",
       "      <th>predicted</th>\n",
       "    </tr>\n",
       "  </thead>\n",
       "  <tbody>\n",
       "    <tr>\n",
       "      <th>0</th>\n",
       "      <td>Glaucoma_Negative</td>\n",
       "      <td>Glaucoma_Negative</td>\n",
       "    </tr>\n",
       "    <tr>\n",
       "      <th>1</th>\n",
       "      <td>Glaucoma_Negative</td>\n",
       "      <td>Glaucoma_Negative</td>\n",
       "    </tr>\n",
       "    <tr>\n",
       "      <th>2</th>\n",
       "      <td>Glaucoma_Negative</td>\n",
       "      <td>Glaucoma_Positive</td>\n",
       "    </tr>\n",
       "    <tr>\n",
       "      <th>3</th>\n",
       "      <td>Glaucoma_Positive</td>\n",
       "      <td>Glaucoma_Positive</td>\n",
       "    </tr>\n",
       "    <tr>\n",
       "      <th>4</th>\n",
       "      <td>Glaucoma_Negative</td>\n",
       "      <td>Glaucoma_Negative</td>\n",
       "    </tr>\n",
       "    <tr>\n",
       "      <th>...</th>\n",
       "      <td>...</td>\n",
       "      <td>...</td>\n",
       "    </tr>\n",
       "    <tr>\n",
       "      <th>190</th>\n",
       "      <td>Glaucoma_Negative</td>\n",
       "      <td>Glaucoma_Positive</td>\n",
       "    </tr>\n",
       "    <tr>\n",
       "      <th>191</th>\n",
       "      <td>Glaucoma_Negative</td>\n",
       "      <td>Glaucoma_Positive</td>\n",
       "    </tr>\n",
       "    <tr>\n",
       "      <th>192</th>\n",
       "      <td>Glaucoma_Positive</td>\n",
       "      <td>Glaucoma_Positive</td>\n",
       "    </tr>\n",
       "    <tr>\n",
       "      <th>193</th>\n",
       "      <td>Glaucoma_Negative</td>\n",
       "      <td>Glaucoma_Negative</td>\n",
       "    </tr>\n",
       "    <tr>\n",
       "      <th>194</th>\n",
       "      <td>Glaucoma_Negative</td>\n",
       "      <td>Glaucoma_Negative</td>\n",
       "    </tr>\n",
       "  </tbody>\n",
       "</table>\n",
       "<p>195 rows × 2 columns</p>\n",
       "</div>"
      ],
      "text/plain": [
       "              original          predicted\n",
       "0    Glaucoma_Negative  Glaucoma_Negative\n",
       "1    Glaucoma_Negative  Glaucoma_Negative\n",
       "2    Glaucoma_Negative  Glaucoma_Positive\n",
       "3    Glaucoma_Positive  Glaucoma_Positive\n",
       "4    Glaucoma_Negative  Glaucoma_Negative\n",
       "..                 ...                ...\n",
       "190  Glaucoma_Negative  Glaucoma_Positive\n",
       "191  Glaucoma_Negative  Glaucoma_Positive\n",
       "192  Glaucoma_Positive  Glaucoma_Positive\n",
       "193  Glaucoma_Negative  Glaucoma_Negative\n",
       "194  Glaucoma_Negative  Glaucoma_Negative\n",
       "\n",
       "[195 rows x 2 columns]"
      ]
     },
     "execution_count": 51,
     "metadata": {},
     "output_type": "execute_result"
    }
   ],
   "source": [
    "result = pd.DataFrame({'original' : ytest,'predicted' : pred})\n",
    "result\n",
    "\n"
   ]
  },
  {
   "cell_type": "markdown",
   "metadata": {},
   "source": [
    "SAVING MODEL (.sav)"
   ]
  },
  {
   "cell_type": "code",
   "execution_count": 11,
   "metadata": {},
   "outputs": [],
   "source": [
    "file = open('model2.sav', 'wb')\n",
    "pk.dump(open,file)\n",
    "file.close()"
   ]
  },
  {
   "cell_type": "markdown",
   "metadata": {},
   "source": [
    "# TESTING GLAUKOMA POSITIVE"
   ]
  },
  {
   "cell_type": "markdown",
   "metadata": {},
   "source": [
    "Load model"
   ]
  },
  {
   "cell_type": "code",
   "execution_count": null,
   "metadata": {},
   "outputs": [],
   "source": [
    "file = open('model79.sav', 'rb')\n",
    "model = pk.load(file)\n",
    "file.close()"
   ]
  },
  {
   "cell_type": "markdown",
   "metadata": {},
   "source": [
    "Load glaucomic images"
   ]
  },
  {
   "cell_type": "code",
   "execution_count": 57,
   "metadata": {},
   "outputs": [
    {
     "name": "stdout",
     "output_type": "stream",
     "text": [
      "Jumlah positive glaucoma 33 gambar\n"
     ]
    }
   ],
   "source": [
    "image_path = os.path.join(os.getcwd(), 'test_image')\n",
    "\n",
    "testing = []\n",
    "\n",
    "for i in os.listdir(image_path):\n",
    "    images = os.path.join(image_path, i)\n",
    "    \n",
    "    images = cv2.imread(images, 0)\n",
    "    images = cv2.resize(images, (150, 150))\n",
    "    images = np.array(images).flatten()\n",
    "\n",
    "    testing.append([images])\n",
    "    \n",
    "\n",
    "print(\"Jumlah positive glaucoma\", len(testing), \"gambar\")\n"
   ]
  },
  {
   "cell_type": "markdown",
   "metadata": {},
   "source": [
    "Predicting glaukcomic images"
   ]
  },
  {
   "cell_type": "code",
   "execution_count": 62,
   "metadata": {},
   "outputs": [
    {
     "name": "stdout",
     "output_type": "stream",
     "text": [
      "['Glaucoma_Positive']\n",
      "['Glaucoma_Positive']\n",
      "['Glaucoma_Positive']\n",
      "['Glaucoma_Positive']\n",
      "['Glaucoma_Positive']\n",
      "['Glaucoma_Positive']\n",
      "['Glaucoma_Positive']\n",
      "['Glaucoma_Positive']\n",
      "['Glaucoma_Positive']\n",
      "['Glaucoma_Positive']\n",
      "['Glaucoma_Negative']\n",
      "['Glaucoma_Positive']\n",
      "['Glaucoma_Negative']\n",
      "['Glaucoma_Positive']\n",
      "['Glaucoma_Negative']\n",
      "['Glaucoma_Positive']\n",
      "['Glaucoma_Positive']\n",
      "['Glaucoma_Positive']\n",
      "['Glaucoma_Positive']\n",
      "['Glaucoma_Positive']\n",
      "['Glaucoma_Positive']\n",
      "['Glaucoma_Positive']\n",
      "['Glaucoma_Positive']\n",
      "['Glaucoma_Negative']\n",
      "['Glaucoma_Positive']\n",
      "['Glaucoma_Positive']\n",
      "['Glaucoma_Positive']\n",
      "['Glaucoma_Positive']\n",
      "['Glaucoma_Positive']\n",
      "['Glaucoma_Positive']\n",
      "['Glaucoma_Positive']\n",
      "['Glaucoma_Positive']\n",
      "['Glaucoma_Positive']\n",
      "29 dari 33 gambar merupakan POSITIVE GLAUKOMA\n"
     ]
    }
   ],
   "source": [
    "positive = 0\n",
    "negative = 0\n",
    "for i in testing:\n",
    "    pred = model.predict(i)\n",
    "    #print(pred)\n",
    "    if pred == \"Glaucoma_Positive\":\n",
    "        positive = positive+1\n",
    "    else:\n",
    "        negative = negative+1\n",
    "\n",
    "\n",
    "print(positive, \"dari\", len(testing), \"gambar merupakan POSITIVE GLAUKOMA\")\n"
   ]
  }
 ],
 "metadata": {
  "kernelspec": {
   "display_name": "Python 3.10.4 ('tf')",
   "language": "python",
   "name": "python3"
  },
  "language_info": {
   "codemirror_mode": {
    "name": "ipython",
    "version": 3
   },
   "file_extension": ".py",
   "mimetype": "text/x-python",
   "name": "python",
   "nbconvert_exporter": "python",
   "pygments_lexer": "ipython3",
   "version": "3.10.4"
  },
  "orig_nbformat": 4,
  "vscode": {
   "interpreter": {
    "hash": "0a5f24c664d7b6073487c560f82c30a9eecce8cc5ebf4c909d55a9e775e5f1d2"
   }
  }
 },
 "nbformat": 4,
 "nbformat_minor": 2
}
